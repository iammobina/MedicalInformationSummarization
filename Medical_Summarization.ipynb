{
  "nbformat": 4,
  "nbformat_minor": 0,
  "metadata": {
    "colab": {
      "provenance": []
    },
    "kernelspec": {
      "name": "python3",
      "display_name": "Python 3"
    },
    "accelerator": "GPU"
  },
  "cells": [
    {
      "cell_type": "code",
      "metadata": {
        "id": "ksernmeoTU1q",
        "colab": {
          "base_uri": "https://localhost:8080/"
        },
        "outputId": "05d3bc0e-f24c-4b90-8a16-57ce08b034f6"
      },
      "source": [
        "!pip install tika "
      ],
      "execution_count": null,
      "outputs": [
        {
          "output_type": "stream",
          "name": "stdout",
          "text": [
            "Looking in indexes: https://pypi.org/simple, https://us-python.pkg.dev/colab-wheels/public/simple/\n",
            "Requirement already satisfied: tika in /usr/local/lib/python3.10/dist-packages (2.6.0)\n",
            "Requirement already satisfied: requests in /usr/local/lib/python3.10/dist-packages (from tika) (2.27.1)\n",
            "Requirement already satisfied: setuptools in /usr/local/lib/python3.10/dist-packages (from tika) (67.7.2)\n",
            "Requirement already satisfied: charset-normalizer~=2.0.0 in /usr/local/lib/python3.10/dist-packages (from requests->tika) (2.0.12)\n",
            "Requirement already satisfied: urllib3<1.27,>=1.21.1 in /usr/local/lib/python3.10/dist-packages (from requests->tika) (1.26.15)\n",
            "Requirement already satisfied: idna<4,>=2.5 in /usr/local/lib/python3.10/dist-packages (from requests->tika) (3.4)\n",
            "Requirement already satisfied: certifi>=2017.4.17 in /usr/local/lib/python3.10/dist-packages (from requests->tika) (2022.12.7)\n"
          ]
        }
      ]
    },
    {
      "cell_type": "code",
      "metadata": {
        "id": "-OubcUdQeyeV",
        "colab": {
          "base_uri": "https://localhost:8080/"
        },
        "outputId": "61b4366d-1e7b-4ad7-e826-96a93badc6e7"
      },
      "source": [
        "!pip install sumy "
      ],
      "execution_count": null,
      "outputs": [
        {
          "output_type": "stream",
          "name": "stdout",
          "text": [
            "Looking in indexes: https://pypi.org/simple, https://us-python.pkg.dev/colab-wheels/public/simple/\n",
            "Requirement already satisfied: sumy in /usr/local/lib/python3.10/dist-packages (0.11.0)\n",
            "Requirement already satisfied: pycountry>=18.2.23 in /usr/local/lib/python3.10/dist-packages (from sumy) (22.3.5)\n",
            "Requirement already satisfied: docopt<0.7,>=0.6.1 in /usr/local/lib/python3.10/dist-packages (from sumy) (0.6.2)\n",
            "Requirement already satisfied: nltk>=3.0.2 in /usr/local/lib/python3.10/dist-packages (from sumy) (3.8.1)\n",
            "Requirement already satisfied: breadability>=0.1.20 in /usr/local/lib/python3.10/dist-packages (from sumy) (0.1.20)\n",
            "Requirement already satisfied: requests>=2.7.0 in /usr/local/lib/python3.10/dist-packages (from sumy) (2.27.1)\n",
            "Requirement already satisfied: lxml>=2.0 in /usr/local/lib/python3.10/dist-packages (from breadability>=0.1.20->sumy) (4.9.2)\n",
            "Requirement already satisfied: chardet in /usr/local/lib/python3.10/dist-packages (from breadability>=0.1.20->sumy) (4.0.0)\n",
            "Requirement already satisfied: tqdm in /usr/local/lib/python3.10/dist-packages (from nltk>=3.0.2->sumy) (4.65.0)\n",
            "Requirement already satisfied: joblib in /usr/local/lib/python3.10/dist-packages (from nltk>=3.0.2->sumy) (1.2.0)\n",
            "Requirement already satisfied: regex>=2021.8.3 in /usr/local/lib/python3.10/dist-packages (from nltk>=3.0.2->sumy) (2022.10.31)\n",
            "Requirement already satisfied: click in /usr/local/lib/python3.10/dist-packages (from nltk>=3.0.2->sumy) (8.1.3)\n",
            "Requirement already satisfied: setuptools in /usr/local/lib/python3.10/dist-packages (from pycountry>=18.2.23->sumy) (67.7.2)\n",
            "Requirement already satisfied: charset-normalizer~=2.0.0 in /usr/local/lib/python3.10/dist-packages (from requests>=2.7.0->sumy) (2.0.12)\n",
            "Requirement already satisfied: certifi>=2017.4.17 in /usr/local/lib/python3.10/dist-packages (from requests>=2.7.0->sumy) (2022.12.7)\n",
            "Requirement already satisfied: idna<4,>=2.5 in /usr/local/lib/python3.10/dist-packages (from requests>=2.7.0->sumy) (3.4)\n",
            "Requirement already satisfied: urllib3<1.27,>=1.21.1 in /usr/local/lib/python3.10/dist-packages (from requests>=2.7.0->sumy) (1.26.15)\n"
          ]
        }
      ]
    },
    {
      "cell_type": "code",
      "metadata": {
        "id": "2bniItOuTTze"
      },
      "source": [
        "from tika import parser\n",
        "\n",
        "rawText = parser.from_file('engerix_b_pi_au.pdf')\n",
        "\n",
        "rawList = rawText['content'].splitlines()\n"
      ],
      "execution_count": null,
      "outputs": []
    },
    {
      "cell_type": "code",
      "metadata": {
        "id": "LtHWc8hQTq2p"
      },
      "source": [
        "rawList = [item for item in rawList if item.strip()]  "
      ],
      "execution_count": null,
      "outputs": []
    },
    {
      "cell_type": "code",
      "metadata": {
        "id": "ImuZXSiy22UQ",
        "colab": {
          "base_uri": "https://localhost:8080/"
        },
        "outputId": "cfe1fa7e-774b-474c-dd4e-14a1850ade4a"
      },
      "source": [
        "len(rawList)    "
      ],
      "execution_count": null,
      "outputs": [
        {
          "output_type": "execute_result",
          "data": {
            "text/plain": [
              "741"
            ]
          },
          "metadata": {},
          "execution_count": 40
        }
      ]
    },
    {
      "cell_type": "code",
      "metadata": {
        "id": "pSUzdwIxyiwJ"
      },
      "source": [
        "rawList_str = ' '.join(rawList)   "
      ],
      "execution_count": null,
      "outputs": []
    },
    {
      "cell_type": "code",
      "source": [
        "!pip3 install gensim==3.6.0"
      ],
      "metadata": {
        "colab": {
          "base_uri": "https://localhost:8080/"
        },
        "id": "p9dLcjva0Kep",
        "outputId": "16d83e56-063e-4ae4-931d-45e5dd377c8e"
      },
      "execution_count": null,
      "outputs": [
        {
          "output_type": "stream",
          "name": "stdout",
          "text": [
            "Looking in indexes: https://pypi.org/simple, https://us-python.pkg.dev/colab-wheels/public/simple/\n",
            "Requirement already satisfied: gensim==3.6.0 in /usr/local/lib/python3.10/dist-packages (3.6.0)\n",
            "Requirement already satisfied: six>=1.5.0 in /usr/local/lib/python3.10/dist-packages (from gensim==3.6.0) (1.16.0)\n",
            "Requirement already satisfied: smart-open>=1.2.1 in /usr/local/lib/python3.10/dist-packages (from gensim==3.6.0) (6.3.0)\n",
            "Requirement already satisfied: scipy>=0.18.1 in /usr/local/lib/python3.10/dist-packages (from gensim==3.6.0) (1.10.1)\n",
            "Requirement already satisfied: numpy>=1.11.3 in /usr/local/lib/python3.10/dist-packages (from gensim==3.6.0) (1.22.4)\n"
          ]
        }
      ]
    },
    {
      "cell_type": "code",
      "metadata": {
        "id": "s5U_agvx6uCV"
      },
      "source": [
        "from gensim.summarization import keywords\n",
        "from gensim.summarization.summarizer import summarize,summarize_corpus"
      ],
      "execution_count": null,
      "outputs": []
    },
    {
      "cell_type": "code",
      "metadata": {
        "id": "5cNEOnks-jHR"
      },
      "source": [
        "gensim_keywords = keywords(rawList_str,lemmatize=True,scores=True,ratio=0.40)"
      ],
      "execution_count": null,
      "outputs": []
    },
    {
      "cell_type": "code",
      "metadata": {
        "id": "3JXvz8TC-qqg",
        "colab": {
          "base_uri": "https://localhost:8080/"
        },
        "outputId": "39bd116a-9b7f-4021-c6c3-909fa807082c"
      },
      "source": [
        "print(gensim_keywords)"
      ],
      "execution_count": null,
      "outputs": [
        {
          "output_type": "stream",
          "name": "stdout",
          "text": [
            "[('vaccinated', 0.34910111337099003), ('rare', 0.24456357971276246), ('engerix', 0.17865965707468034), ('dosing', 0.14318927686835978), ('symptoms', 0.13693447502429865), ('schedules', 0.1344486284505349), ('months', 0.13175846991299595), ('antibody', 0.1311181400725346), ('following', 0.12992851889866433), ('including', 0.12741040485096647), ('clinically', 0.12617583470212193), ('participant', 0.11233911854727621), ('patient', 0.11023995659548161), ('reaction', 0.10476118031086551), ('infected', 0.10442012927494342), ('seroprotected', 0.09987374329339622), ('group', 0.09962312981122491), ('injections', 0.088729012936225), ('protective', 0.08782627205167248), ('use', 0.08594605211093581), ('common', 0.08486619183679146), ('adverse', 0.0834454119334083), ('risks', 0.08148613099499062), ('effects', 0.08144645374985124), ('data', 0.0799256533516888), ('disorders', 0.07927561253422594), ('hepatic', 0.07898040672381597), ('special', 0.07869773191746954), ('administration', 0.07573819010738536), ('study', 0.07489451985570464), ('available', 0.0737619938223729), ('function', 0.07213155736128918), ('anti', 0.07212983412194299), ('report', 0.07187298376239738), ('human', 0.07070031170510503), ('medicinal', 0.06928969361040176), ('pain', 0.06902434765996315), ('years', 0.06609922100891416), ('frequencies', 0.06568427714679385), ('white', 0.06459850389392681), ('production', 0.0645455231593593), ('properties', 0.06357808702482041), ('site', 0.06272840694450947), ('primary', 0.06245124392203025), ('children', 0.061845997056260024), ('administering', 0.06162738730706615), ('adequately', 0.060499872800463886), ('trial', 0.06010450767784095), ('tested', 0.059903841252472244), ('antigens', 0.05976163173900572), ('response', 0.059426856561600294), ('information', 0.058052917823772), ('immunity', 0.05798947230069082), ('immunisation', 0.057655736240897225), ('aged', 0.05728618152608812), ('uncommon', 0.05568998158627042), ('section', 0.05433907515586658), ('recommends', 0.053505154510839266), ('unknown', 0.053128785741128906), ('container', 0.052422901466279974), ('date', 0.05236831466577456), ('chronic adult haemodialysis', 0.052313180267730186), ('fatigue', 0.05229989261120534), ('australia', 0.05221094439727082), ('impaired', 0.051223727182368124), ('pharmaceutical', 0.0510914115606389), ('respiratory', 0.05092319836330815), ('post', 0.0507330219669162), ('interval', 0.050580688322360394), ('activities', 0.05020245438246112), ('carrier', 0.05001183708964627), ('renal', 0.04937298822263746), ('local', 0.04816896717617603), ('adolescent', 0.047857888492107176), ('seropositive', 0.047685115841812745), ('rate', 0.04655477168607448), ('hbsag', 0.04654362118270151), ('gastrointestinal', 0.04636720583091267), ('infants', 0.04568526275839795), ('table', 0.04566694326216213), ('overdose', 0.04470850130097281), ('exposure', 0.044521611611671674), ('particulate', 0.04410307818295215), ('discarding', 0.044103078182951984), ('sizes', 0.04410307818295168), ('colourless', 0.0441030781829507), ('received', 0.04389789374325799), ('monitoring', 0.043585072207578485), ('severely', 0.04340224711547288), ('related', 0.04268233062005636), ('syncope', 0.04114738072111401), ('medical', 0.04111346386984065), ('nervous', 0.040879470048655685), ('total', 0.04083318021293873), ('encephalopathy', 0.04078238800404601), ('normal', 0.04040479178546379), ('long', 0.040197800910319166), ('paralysis', 0.03968741304300862), ('bleeding', 0.03939624333530321), ('skin', 0.0393442877783589), ('hbs', 0.03921704860238579), ('hbv', 0.03869415880246873), ('contraindication', 0.03864704365863817), ('previous', 0.03860529630406587), ('providing', 0.038512726594430856), ('respectively', 0.038008371991575064), ('sodium phosphate', 0.0379542988736492), ('influenza', 0.0373870324119326), ('bovine derived', 0.03719759419378265), ('dosages', 0.037122820795509284), ('recombinant', 0.03696155962897796), ('summary', 0.03683691280737282), ('considered', 0.03669607755300026), ('fever', 0.0365851341364995), ('benefits', 0.03636599924520366), ('sponsor', 0.03620221715919682), ('urticaria', 0.03618254285338744), ('required', 0.036044361453617994), ('visual', 0.03602823674288032), ('yeast', 0.03589895838071568), ('neuritis', 0.03576073122397002), ('particulars', 0.03555217357812106), ('syringes', 0.03499483548490883), ('level', 0.03482404384755906), ('grade', 0.03454431678584971), ('malaise', 0.03444008969265758), ('healthy', 0.03437980289901958), ('liver', 0.03431664427321727), ('hpv', 0.03431464245081143), ('forms', 0.0333630621634914), ('booster', 0.033221681096429055), ('sclerosis', 0.033172607388230906), ('cell', 0.03310921632274503), ('known', 0.03308341711999074), ('dizziness', 0.03297456225941539), ('physicochemical', 0.0326900907274965), ('suspension', 0.03258025534090948), ('general', 0.032580106295300906), ('paediatric', 0.03250742193354957), ('deltoid region', 0.03218168170470873), ('vomiting', 0.03209094864973279), ('separate', 0.032040784852157056), ('subcutaneous tissue', 0.03149397700168878), ('remain', 0.031472714652937335), ('male', 0.031393557496793026), ('types', 0.03136429470078745), ('disturbed', 0.03126962133461835), ('autonomic', 0.03121005342864728), ('diphtheria', 0.03093472417454281), ('headache', 0.030916780539109914), ('pharmacokinetic', 0.03076877900297246), ('concentration', 0.030746362906966824), ('free', 0.0304736722375019), ('hydroxide', 0.030467577736005964), ('individuals', 0.03032083094545473), ('lower', 0.03031057018629086), ('appearance', 0.030299909037348364), ('confidence', 0.030232583287939492), ('agent', 0.03020342407901597), ('delta', 0.030203424079015957), ('highly', 0.030203424079015884), ('purified', 0.030203424079015863), ('circumstances', 0.030203424079015537), ('exceptional', 0.030203424079015388), ('smoking', 0.03020342407901536), ('habits', 0.030203424079015335), ('needlestick ocular', 0.030203424079015273), ('anterolateral thigh', 0.03020342407901526), ('number', 0.03020342407901517), ('fold rise', 0.030203424079015134), ('overall similar', 0.030203424079015117), ('avoid injury', 0.030203424079015093), ('usually mild', 0.03020342407901508), ('percentage', 0.030203424079015048), ('poliomyelitis', 0.030203424079014926), ('oral', 0.030203424079014888), ('status', 0.030203424079014628), ('people living', 0.030203424079014628), ('hbeag', 0.03020342407901461), ('reticulo', 0.03020342407901458), ('hepatocellular carcinoma', 0.03020342407901444), ('born', 0.030197584852455148), ('encephalitis', 0.030183823235406533), ('decreases', 0.030135595899100517), ('abnormal', 0.029995281975089456), ('interactions', 0.029974300498675065), ('planus', 0.02980860242642719), ('abdominal', 0.029778727585378598), ('trade', 0.02954738920043058), ('immunoglobulin', 0.02937827906432866), ('lymphadenopathy', 0.029362552472056186), ('given', 0.029343535649748526), ('australian', 0.02923384836714992), ('composition', 0.029209458000910606), ('significance', 0.029185669532412476), ('material', 0.029056448988164722), ('vascular', 0.029049430353054476), ('evidence', 0.029032249799237252), ('care', 0.028947322379677082), ('incompatibilities', 0.028920242076306262), ('history', 0.028827705678741943), ('shown', 0.028722666484415228), ('pharmacological', 0.02872259975274053), ('induration', 0.028598906424451852), ('demonstrating', 0.02859674301637333), ('nature', 0.02851781271450631), ('achieved', 0.02851609945618616), ('mean', 0.028362406003075116), ('muscle', 0.028199221726182867), ('hypersensitivity', 0.028182892252349944), ('cohort', 0.028050124410487366), ('rash', 0.027923617714161606), ('safety', 0.027828221754295335), ('saccharomyces', 0.027741303729742792), ('meningitis neck', 0.02765180213779085), ('continued', 0.027553625871419254), ('www', 0.027529251630659186), ('period', 0.027509901248431563), ('opaque', 0.027379724329156824), ('spongiform', 0.027263409685652627), ('convulsions', 0.02719134634410237), ('gender', 0.026975409687428672), ('glass', 0.026962346366922952), ('titres', 0.026950898243442066), ('psychiatric', 0.026911347269031306), ('completed', 0.02687921207762629), ('dihydrate monobasic', 0.0267876874983183), ('hypotension', 0.02673746124784674), ('low', 0.02660209227924589), ('time', 0.02658442968611948), ('comparative', 0.026420438969238343), ('stiffness', 0.026350008207120093), ('lost', 0.02630649726985304), ('preclinical', 0.026305748497650053), ('micrograms', 0.02630010071435291)]\n"
          ]
        }
      ]
    },
    {
      "cell_type": "code",
      "metadata": {
        "id": "6qgI4HzyEI49"
      },
      "source": [
        "gensim_text_rank = summarize(rawList_str,ratio=0.30)   #ratio is the quantity of original text that should be in summary, word_count parameter can also be used"
      ],
      "execution_count": null,
      "outputs": []
    },
    {
      "cell_type": "code",
      "metadata": {
        "id": "tc-LLOguyDI3",
        "outputId": "fe3c63bb-eb25-4e69-d4ac-08b7b4e243fc",
        "colab": {
          "base_uri": "https://localhost:8080/"
        }
      },
      "source": [
        "print(gensim_text_rank,'')"
      ],
      "execution_count": null,
      "outputs": [
        {
          "output_type": "stream",
          "name": "stdout",
          "text": [
            "4.2 DOSE AND METHOD OF ADMINISTRATION   Dosage  The vaccine can be administered at any age from birth onwards.\n",
            "Adults and adolescents older than 19 years:  A dose of 20 µg of antigen protein in 1 mL is recommended in a 0, 1, 6 month schedule.\n",
            "Adolescents:  In adolescents from the age of 10 years, up to and including 19 years, a 10 µg dose is  recommended provided the immunisation is carried out in the 0, 1, 6 month schedule, in  circumstances which will ensure compliance to the full vaccination course.\n",
            "The 20 µg vaccine can also be used in participants from 11 years up to and including 15 years  of age in a 0 and 6 month schedule in situations when there is a relatively low risk of hepatitis  B infection during the vaccination course and when compliance with the complete vaccination  course can be anticipated.\n",
            "Neonates, infants and children below 10 years of age:    A dose of 10 µg of antigen protein in 0.5 mL suspension is recommended in a 0, 1, 6 months  schedule.\n",
            "For details on the recommended vaccination schedule, including use in pre-term  babies, refer to the Australian Immunisation Handbook.\n",
            "Vaccination Schedules  For primary vaccination of adults, adolescents and children not previously exposed to the  hepatitis B virus, the schedules are as follows:  3   Vaccine dose Initial 1 month* 6 months*  Adults and  adolescents  over 19 years  20 µg 1 mL 1 mL 1 mL  Adolescents  from 10 up to  and including  19 years ‡  10 µg 0.5 mL 0.5 mL 0.5 mL  Adolescents  from 11 years  up to and  including 15  years of age #  20 µg 1 mL - 1 mL  Neonates∇ and  children  younger than  10 years  10 µg 0.5 mL 0.5 mL 0.5 mL  * after first dose  ‡  if compliance cannot be assured a 20 µg dose should be used.\n",
            "#  The 20 µg vaccine may be administered in participants from 11 years up to and including 15 years of age according to a 0,6  months schedule.\n",
            "However, in this case, protection against hepatitis B infections may not be obtained until after the second  dose (see Section 5.1 PHARMACODYNAMIC PROPERTIES).\n",
            "Therefore this schedule should be used only when there is a  relatively low risk of hepatitis B infection during the vaccination course and when completion of the two-dose vaccination course  can be anticipated.\n",
            "∇  The recommended schedule for hepatitis B vaccine in neonates is 0, 2, 4 and 6 months (refer to the Australian Immunisation  Handbook).\n",
            "The recommended treatment regimen for infants born to HBsAg positive mothers (irrespective  of the mother’s HBeAg status) is as follows:   Vaccine  Dose  At birth 1 month* 6 months*  ENGERIX-B vaccine 10 µg 0.5 mL 0.5 mL 0.5 mL  Hepatitis B Immunoglobulin (HBIG) - 100 IU - -  * after first dose  4  The first dose of vaccine and immunoglobulin should preferably be given within 12 hours of  birth at separate sites.\n",
            "However, as higher  seroprotective rates are observed following the 0, 1, 2 month schedule, it is recommended the  0, 7, 21 day schedule be administered only to adults, and only in exceptional circumstances  (e.g travellers commencing hepatitis B primary vaccination within one month of departure) (see  Section 5.1 PHARMACODYNAMIC PROPERTIES).\n",
            "Since the peak antibody levels reached  after these shorter schedules of primary vaccination are lower compared to the 0, 1 and 6 month  schedule, it is recommended that a fourth dose (booster) be given at 12 months after the first  dose of vaccine, in order to ensure adequate seroprotection rates.\n",
            "Vaccine dose Initial 1 month* 2 months* 6 months*  Chronic  haemodialysis or  Impaired renal  function patients  40 µg 2 mL 2 mL 2 mL 2 mL  * after first dose  As vaccine-induced protection in haemodialysis patients is less complete, boosting should be  adapted in order to ensure the anti-HBs antibody titre remains above 10IU/L (see Section 4.4  SPECIAL WARNINGS AND PRECAUTIONS FOR USE).\n",
            "5  Post-exposure prophylaxis  There are no adequately controlled studies on the effectiveness of hepatitis B immunoglobulin  administration, along with the vaccine, in adults and older children exposed to hepatitis B virus  through 1) needlestick, ocular or mucous membrane exposure to blood known or presumed to  contain HBsAg; 2) human bites by known or presumed HBsAg carriers that penetrate the skin;   3) following intimate sexual contact with known or presumed HBsAg carriers.\n",
            "Booster dose  The Australian Immunisation Handbook recommends that booster doses against hepatitis B  are not required in immunocompetent individuals, since there is good evidence that a  completed primary course of hepatitis B vaccination provides long lasting protection in these  individuals.\n",
            "As for any vaccine, ENGERIX-B should not be administered to participants with severe febrile  infections.\n",
            "haemophiliacs) the vaccine may be administered subcutaneously, since bleeding after  intramuscular injection may occur in these patients (see Section 4.2 DOSE AND METHOD  OF ADMINISTRATION).\n",
            "As individuals in these groups may respond less optimally to hepatitis B vaccines, the  administration of additional vaccine doses may be considered.\n",
            "In dialysis patients, HIV infected patients and participants who have impairment of the immune  system, adequate antibody concentrations may not be obtained after the recommended  primary vaccination course.\n",
            "The need for monitoring antibody levels in such patients should  7  be considered (see Section 4.2 DOSE AND METHOD OF ADMINISTRATION, Chronic adult  haemodialysis patients/Patients with impaired renal function (creatinine clearance <30  mL/min) 16 years of age and above).\n",
            "ENGERIX-B may be administered concomitantly with the following vaccines: diphtheria- tetanus-pertussis (DTP), diphtheria-tetanus (DT), poliomyelitis (oral or injectable), measles- mumps-rubella, Haemophilus influenzae type b (Hib), and hepatitis A, providing separate  syringes and separate injection sites are used.\n",
            "Administration of ENGERIX-B at the same time as CERVARIX (HPV vaccine) has shown no  clinically relevant interference in the antibody response to the HPV antigens.\n",
            "Anti-HBs  geometric mean antibody concentrations were lower on co-administration, but the clinical  significance of this observation is not known since the seroprotection rates remain unaffected.\n",
            "The simultaneous administration of ENGERIX-B and hepatitis B immunoglobulin (HBIG) does  not result in reduced anti-HBs antibody titres provided separate injection sites are used.\n",
            "Adverse effects data from patients who received a challenge dose of ENGERIX-B 10 µg  (preservative free) at 72 to 78 months after primary vaccination is shown in the below table.\n",
            "The Group 1 participants had received 2 doses of thiomersal-free ENGERIX-B (20 µg) at 0  and 6 months, with placebo at Month 1.\n",
            "The Group 2 participants had received 3 doses of  preservative-free ENGERIX-B (10 µg) at 0, 1 and 6 months.\n",
            "Events  are listed within body systems and categorised by frequency according to the following  definitions:  Frequencies are reported as:  Very common: ≥ 1/10  Common: ≥1/100, <1/10  Uncommon: ≥1/1,000, <1/100  Rare: ≥1/10,000, <1/1,000  Very rare: <1/10,000 including isolated reports  11  Blood and lymphatic system disorders: Rare: lymphadenopathy  Metabolism and nutrition disorders: Common: appetite lost  Psychiatric disorders: Very common: irritability  Nervous system disorders: Common: headache (very common with 10 µg formulation),  drowsiness; Uncommon: dizziness; Rare: paresthesia  Gastrointestinal disorders: Common: gastrointestinal symptoms (such as nausea, vomiting,  diarrhea, abdominal pain)  Skin and subcutaneous tissue disorders: Rare: rash, pruritus, urticaria  Musculoskeletal and connective tissue disorders: Uncommon: myalgia; Rare: arthralgia  General disorders and administration site conditions: Very common: pain and redness at  injection site, fatigue; Common: swelling at injection site, malaise, injection site reaction (such  as induration), fever (≥37.5°C); Uncommon: influenza-like illness  Post-marketing Data  The following adverse events have been reported following widespread use of the vaccine.\n",
            "5 PHARMACOLOGICAL PROPERTIES  5.1 PHARMACODYNAMIC PROPERTIES   Mechanism of action  ENGERIX-B induces the production of specific humoral antibodies (anti-HBs), which confer  immunity against hepatitis B.\n",
            "A peak anti-HBs antibody concentration of ≥10 IU/L correlates  with long-term protection against hepatitis B virus (HBV) infection (seroprotection).\n",
            "Clinical trials  Protective Efficacy  Clinical trials demonstrated SC rates of ≥ 97% (seroprotection (SP) rates of ≥ 96%) in normal  immunocompetent adults and children following a 0, 1, 6 months schedule, and SC rates of  >90% in neonates following injections at 0, 1, 2 months.\n",
            "In healthy adults administered vaccine doses according to a 0, 1, 2 month primary schedule  with a 12 month booster, seroprotective rates of 15% and 89% were achieved one month after  the first and third doses respectively.\n",
            "In healthy adults administered a 0, 7, 21  day primary schedule with a 12 month booster, seroprotective rates of 65.2% and 76.4% were  achieved one week and one month respectively following the third vaccine dose.\n",
            "In healthy adolescents (from 11 years up to and including 15 years of age) administered doses  of 20 µg at 0 and 6 months, SP rates were 11.3% at month 2, 26.4% at month 6 and 96.7%  at month 7.\n",
            "The seroprotection rates (SP) obtained with the two different dosages and schedules  recommended in participants from 11 years up to and including 15 years of age were  evaluated up to 66 months after the first dose of the primary vaccination and are presented in  Table 2.\n",
            "Table 2: Seroprotection Rates obtained with two different dosages in participants 11 to  15 years   Vaccine groups Anti-HBs  Month 2  SP (%)  Anti-HBs  Month 6  SP (%)  Anti-HBs  Month 7  SP (%)  Anti-HBs  Month 30  SP (%)  Anti-HBs  Month 42  SP (%)  Anti-HBs  Month 54  SP (%)  Anti-HBs  Month 66  SP (%)  ENGERIX-B 10 µg   (0, 1, 6 months  schedule)  55.8  (46.1- 65.1)1  87.6  (80.1- 93.1)1  98.2  (93.8- 99.8)1  96.9  (89.2- 99.6)1  92.5  (84.4- 97.2)1  94.7  (87.1- 98.5)1  91.4  (82.3- 96.8)1  ENGERIX-B 20 µg  (0, 6 months  schedule)  11.3  (7.5- 15.9)1  26.4  (20.9- 32.4)1  96.7  (93.6- 98.6)1  87.1  (80.4- 92.2)1  83.7  (77.2- 89.0)1  84.4  (77.5- 89.8)1  79.5  (71.7- 86.1)1  14  1 95% confidence interval, (lower limit – upper limit)  These data show that a primary vaccination with ENGERIX-B vaccine induces circulating anti- HBs antibodies that persist for at least 66 months.\n",
            "All participants in both  vaccine groups (including participants with anti-HBs antibody concentrations < 10 IU/L)  received a challenge dose 72 to 78 months after primary vaccination.\n",
            "One month after the  challenge dose, all participants mounted an anamnestic response to the challenge dose and  were shown to be seroprotected (i.e. anti-HBs antibody concentrations ≥ 10 IU/L).\n",
            "These data  suggest that protection against hepatitis B may still be conferred through immune memory in  all participants who responded to primary vaccination but lost seroprotection level of anti-HBs  antibodies.\n",
            "At risk groups:  In clinical studies performed in Thailand twenty years after primary vaccination during infancy,  participants born to mothers who were HBV carriers, received a challenge dose of ENGERIX- B.\n",
            "at least (greater than or equal to) a 4-fold rise in post-challenge dose anti-HB’s antibody  concentrations in subjects seropositive at the previous available long-term time-point,  demonstrating immune memory.\n",
            "In a clinical trial where thalassaemic patients received three doses of 20 µg at  0, 1, 6 months, SC rates as well as SP rates were 100% (17 participants tested).\n",
            "15  Patients with renal insufficiency  In patients 16 years of age and above with impaired renal function, including patients  undergoing haemodialysis administered 40 µg (2 x 20 µg) doses at 0, 1, 2 and 6 months, SP  rates were  55.4% at month 3 and  87.1% at month 7.\n",
            "Table 3: Seroprotection Rates (SP) obtained with 40 µg (2 x 20 µg) doses in  haemodialysis and pre-haemodialysis patients 16 years of age and above  Group Timing N SP      n        %  Pre-haemodialysis  patients  Month 1  Month 2  Month 3  Month 6  Month 7  Month 12  42  42  42  38  39  36    3       7.1    5     11.9  18     42.9  21     55.3  31     79.5  27     75.0  Haemodialysis patients Month 1  Month 2  Month 3  Month 6  Month 7  Month 12  41  41  40  39  38  34    1       2.4  13     31.7  25     62.5  30     76.9  34     89.5  27     79.4  Immunogenicity was measured by the development of antibody to HBsAg as detected by  enzyme immunoassay (seropositivity cut-off: 3.3 mIU/mL), using a titre of ≥10 IU/L as  indicative of seroprotection.\n",
            "Patients with type II diabetes  The seroprotection rates in subjects 20 years of age and above with type II diabetes were  evaluated one month after the last dose of the primary vaccination and are presented in Table  4.\n",
            "16  Table 4: Seroprotection Rates (SP) in subjects 20 years of age and above with type II  diabetes  Age (years) Schedule Seroprotection rate at month 7   ≥ 10 mIU/ml  % 95 % CI  LL UL  20-39 <BMI 30 kg/m2 0, 1, 6 months  (20 µg)  85.7 57.2 98.2  20-39 ≥BMI 30 kg/m2 89.5 75.2 97.1  40-49 <BMI 30 kg/m2 80.8 60.6 93.4  40-49 ≥BMI 30 kg/m2 81.4 69.1 90.3  50-59 <BMI 30 kg/m2 90.2 79.8 96.3  50-59 ≥BMI 30 kg/m2 75.9 62.8 86.1  ³ 60 <BMI 30 kg/m2 66.7 53.3 78.3  *Data source: Study 115918 (HBV-323) Table 42 Seropositivity rates, Seroprotection rates and geometric mean  concentrations (GMCs) for anti-HBs antibody concentrations by groups before first dose of vaccination and one  month after third dose of vaccination by stratified groups by age and BMI (ATP cohort for Immunogenicity)  Reduction in the incidence of hepatocellular carcinoma in children  A significant reduction in the incidence of hepatocellular carcinoma was observed in  Taiwanese children aged 6 - 14 years, following a nationwide hepatitis B vaccination program.\n",
            "Interchangeability of hepatitis B vaccines  Although no clinical data has been submitted, there is no reason to believe that the use of a  different formulation of hepatitis B vaccine used either during a primary vaccination course or  during booster dosing will not be satisfactory.\n",
            "6.5 NATURE AND CONTENTS OF CONTAINER   ENGERIX-B 20 µg (Adult dose):  Monodose vials (1 mL) in packs of 1, 10 and 25.\n",
            "Australian PRODUCT INFORMATION \tengerix-B (hepatitis B surface antigen recombinant (yeast)) vaccine, suspension for injection \t1 Name of the medicine \t2 Qualitative and quantitative composition \t3 Pharmaceutical form \t4 Clinical particulars \t4.1 THERAPEUTIC INDICATIONS \t4.2 DOSE AND METHOD OF ADMINISTRATION \t4.3 CONTRAINDICATIONS \t4.4 SPECIAL WARNINGS AND PRECAUTIONS FOR USE \tUse in hepatic impairment \tUse in renal impairment \tUse in the elderly \tPaediatric use \tEffects on laboratory tests \t4.5 INTERACTIONS WITH OTHER MEDICINES AND OTHER FORMS OF INTERACTIONS \t4.6 FERTILITY, PREGNANCY AND LACTATION \tEffects on fertility \tUse in pregnancy \t(Pregnancy Category B2) \tUse in lactation \t4.7 EFFECTS ON ABILITY TO DRIVE AND USE MACHINES \t4.8 ADVERSE EFFECTS (UNDESIRABLE EFFECTS) \t4.9 OVERDOSE \t5 Pharmacological properties \t5.1 PHARMACODYNAMIC PROPERTIES \tMechanism of action \tClinical trials \t5.2 PHARMACOKINETIC PROPERTIES \t5.3 PRECLINICAL SAFETY DATA \tGenotoxicity \tCarcinogenicity \t6 Pharmaceutical particulars \t6.1 LIST OF EXCIPIENTS \t6.2 INCOMPATIBILITIES \t6.3 SHELF LIFE \t6.4 SPECIAL PRECAUTIONS FOR STORAGE \t6.5 NATURE AND CONTENTS OF CONTAINER \t6.6 SPECIAL PRECAUTIONS FOR DISPOSAL \t6.7 PHYSICOCHEMICAL PROPERTIES \t7  Medicine schedule (Poisons Standard) \t8 Sponsor \t9 Date of first approval \t10 Date of revision \tSUMMARY TABLE OF CHANGES \n"
          ]
        }
      ]
    },
    {
      "cell_type": "code",
      "metadata": {
        "id": "PtGAhah2KGTs",
        "outputId": "d83cc781-5f39-46f8-e63e-097d28fc5adc",
        "colab": {
          "base_uri": "https://localhost:8080/"
        }
      },
      "source": [
        "import sumy\n",
        "from sumy.summarizers.lex_rank import LexRankSummarizer\n",
        "from sumy.nlp.tokenizers import Tokenizer\n",
        "import nltk\n",
        "nltk.download('punkt')\n",
        "from sumy.parsers.plaintext import PlaintextParser\n",
        "parser = PlaintextParser.from_string(rawList_str,Tokenizer('english'))"
      ],
      "execution_count": null,
      "outputs": [
        {
          "output_type": "stream",
          "name": "stderr",
          "text": [
            "[nltk_data] Downloading package punkt to /root/nltk_data...\n",
            "[nltk_data]   Package punkt is already up-to-date!\n"
          ]
        }
      ]
    },
    {
      "cell_type": "code",
      "metadata": {
        "id": "5eIPQ7ckXe-5"
      },
      "source": [
        "Lex = LexRankSummarizer()\n",
        "#Lex.stop_words = [' ']\n",
        "Lex_summary = Lex(document=parser.document,sentences_count=70)"
      ],
      "execution_count": null,
      "outputs": []
    },
    {
      "cell_type": "code",
      "metadata": {
        "id": "1fKferl0b7Rs",
        "outputId": "21b55030-46fb-4a99-bb26-c6322dc02b81",
        "colab": {
          "base_uri": "https://localhost:8080/"
        }
      },
      "source": [
        "for sentence in Lex_summary:\n",
        "    print(sentence)"
      ],
      "execution_count": null,
      "outputs": [
        {
          "output_type": "stream",
          "name": "stdout",
          "text": [
            "No evidence  exists that any case of vCJD (considered to be the human form of bovine spongiform  encephalopathy) has resulted from the administration of any vaccine product.\n",
            "3 PHARMACEUTICAL FORM  Suspension for injection.\n",
            "4 CLINICAL PARTICULARS  4.1 THERAPEUTIC INDICATIONS   ENGERIX-B is indicated for active immunisation against hepatitis B virus infection.\n",
            "2  As hepatitis D (caused by the delta agent) does not occur in the absence of hepatitis B  infection, it can be expected that hepatitis D will also be prevented by vaccination with  ENGERIX-B.\n",
            "4.2 DOSE AND METHOD OF ADMINISTRATION   Dosage  The vaccine can be administered at any age from birth onwards.\n",
            "Vaccination of individuals  who have antibodies against hepatitis B virus from a previous infection is not necessary.\n",
            "Adults and adolescents older than 19 years:  A dose of 20 µg of antigen protein in 1 mL is recommended in a 0, 1, 6 month schedule.\n",
            "Adolescents:  In adolescents from the age of 10 years, up to and including 19 years, a 10 µg dose is  recommended provided the immunisation is carried out in the 0, 1, 6 month schedule, in  circumstances which will ensure compliance to the full vaccination course.\n",
            "If compliance  cannot be assured, then a 20 µg dose should be used to increase the proportion of participants  protected after the first and second doses.\n",
            "The 20 µg vaccine can also be used in participants from 11 years up to and including 15 years  of age in a 0 and 6 month schedule in situations when there is a relatively low risk of hepatitis  B infection during the vaccination course and when compliance with the complete vaccination  course can be anticipated.\n",
            "Neonates, infants and children below 10 years of age:    A dose of 10 µg of antigen protein in 0.5 mL suspension is recommended in a 0, 1, 6 months  schedule.\n",
            "In neonates and infants, maternally transferred antibodies do not interfere with the active  immune response to the vaccine.\n",
            "#  The 20 µg vaccine may be administered in participants from 11 years up to and including 15 years of age according to a 0,6  months schedule.\n",
            "However, in this case, protection against hepatitis B infections may not be obtained until after the second  dose (see Section 5.1 PHARMACODYNAMIC PROPERTIES).\n",
            "Therefore this schedule should be used only when there is a  relatively low risk of hepatitis B infection during the vaccination course and when completion of the two-dose vaccination course  can be anticipated.\n",
            "If this cannot be anticipated, the three-dose schedule of the 10 µg vaccine should be used.\n",
            "∇  The recommended schedule for hepatitis B vaccine in neonates is 0, 2, 4 and 6 months (refer to the Australian Immunisation  Handbook).\n",
            "The recommended treatment regimen for infants born to HBsAg positive mothers (irrespective  of the mother’s HBeAg status) is as follows:   Vaccine  Dose  At birth 1 month* 6 months*  ENGERIX-B vaccine 10 µg 0.5 mL 0.5 mL 0.5 mL  Hepatitis B Immunoglobulin (HBIG) - 100 IU - -  * after first dose  4  The first dose of vaccine and immunoglobulin should preferably be given within 12 hours of  birth at separate sites.\n",
            "If this is not possible, vaccination should not be delayed beyond 7 days  after birth.\n",
            "Testing for HBsAg and anti-HBs is suggested at 12-15 months of age.\n",
            "However, as higher  seroprotective rates are observed following the 0, 1, 2 month schedule, it is recommended the  0, 7, 21 day schedule be administered only to adults, and only in exceptional circumstances  (e.g travellers commencing hepatitis B primary vaccination within one month of departure) (see  Section 5.1 PHARMACODYNAMIC PROPERTIES).\n",
            "Since the peak antibody levels reached  after these shorter schedules of primary vaccination are lower compared to the 0, 1 and 6 month  schedule, it is recommended that a fourth dose (booster) be given at 12 months after the first  dose of vaccine, in order to ensure adequate seroprotection rates.\n",
            "The 40  µg (2 mL) dose may be administered as 2 x 20 µg in one injection site or in each arm.\n",
            "Vaccine dose Initial 1 month* 2 months* 6 months*  Chronic  haemodialysis or  Impaired renal  function patients  40 µg 2 mL 2 mL 2 mL 2 mL  * after first dose  As vaccine-induced protection in haemodialysis patients is less complete, boosting should be  adapted in order to ensure the anti-HBs antibody titre remains above 10IU/L (see Section 4.4  SPECIAL WARNINGS AND PRECAUTIONS FOR USE).\n",
            "ENGERIX-B booster doses  of 40 µg (2 x 20 µg) are recommended for these patients.\n",
            "Hepatitis B immunoglobulin (human) (400 IU) should be given intramuscularly as soon as  possible (must be within 72 hours of exposure).\n",
            "ENGERIX-B should be given at a separate  site within 7 days and then at 1 month and 6 months.\n",
            "Booster dose  The Australian Immunisation Handbook recommends that booster doses against hepatitis B  are not required in immunocompetent individuals, since there is good evidence that a  completed primary course of hepatitis B vaccination provides long lasting protection in these  individuals.\n",
            "The monodose vial and pre-filled syringe presentations are for use in a single patient only  and any residue must be discarded.\n",
            "ENGERIX-B MUST NOT BE GIVEN INTRAVENOUSLY.\n",
            "As for any vaccine, ENGERIX-B should not be administered to participants with severe febrile  infections.\n",
            "HIV infection is not considered a contraindication to hepatitis B vaccination.\n",
            "ENGERIX-B should not be administered in the gluteal region or intradermally/subcutaneously  since these routes of administration may not result in an optimum immune response.\n",
            "haemophiliacs) the vaccine may be administered subcutaneously, since bleeding after  intramuscular injection may occur in these patients (see Section 4.2 DOSE AND METHOD  OF ADMINISTRATION).\n",
            "In dialysis patients, HIV infected patients and participants who have impairment of the immune  system, adequate antibody concentrations may not be obtained after the recommended  primary vaccination course.\n",
            "The need for monitoring antibody levels in such patients should  7  be considered (see Section 4.2 DOSE AND METHOD OF ADMINISTRATION, Chronic adult  haemodialysis patients/Patients with impaired renal function (creatinine clearance <30  mL/min) 16 years of age and above).\n",
            "Because of the long incubation period of hepatitis B, it is possible for unrecognised infection  to be present at the time of vaccination.\n",
            "The vaccine may not prevent hepatitis B in such  cases.\n",
            "The vaccine may not prevent infection in individuals who do not achieve protective antibody  titres.\n",
            "As the benefit of vaccination is high in this group of infants, vaccination should not  be withheld or delayed.\n",
            "Use in renal impairment   See Section 4.4 SPECIAL WARNINGS AND PRECAUTIONS FOR USE above, for use in  haemodialysis patients.\n",
            "Use in the elderly  No data available.\n",
            "8  Effects on laboratory tests  No data available.\n",
            "ENGERIX-B may be administered concomitantly with the following vaccines: diphtheria- tetanus-pertussis (DTP), diphtheria-tetanus (DT), poliomyelitis (oral or injectable), measles- mumps-rubella, Haemophilus influenzae type b (Hib), and hepatitis A, providing separate  syringes and separate injection sites are used.\n",
            "In a comparative trial in participants from 11 years up to and including 15 years of age, the  incidence of local and general solicited symptoms reported after a two-dose regimen of  ENGERIX-B 20 µg was overall similar to that reported after the standard three-dose regimen  of ENGERIX-B 10 µg.\n",
            "Adverse effects data from patients who received a challenge dose of ENGERIX-B 10 µg  (preservative free) at 72 to 78 months after primary vaccination is shown in the below table.\n",
            "The Group 1 participants had received 2 doses of thiomersal-free ENGERIX-B (20 µg) at 0  and 6 months, with placebo at Month 1.\n",
            "The Group 2 participants had received 3 doses of  preservative-free ENGERIX-B (10 µg) at 0, 1 and 6 months.\n",
            "Events  are listed within body systems and categorised by frequency according to the following  definitions:  Frequencies are reported as:  Very common: ≥ 1/10  Common: ≥1/100, <1/10  Uncommon: ≥1/1,000, <1/100  Rare: ≥1/10,000, <1/1,000  Very rare: <1/10,000 including isolated reports  11  Blood and lymphatic system disorders: Rare: lymphadenopathy  Metabolism and nutrition disorders: Common: appetite lost  Psychiatric disorders: Very common: irritability  Nervous system disorders: Common: headache (very common with 10 µg formulation),  drowsiness; Uncommon: dizziness; Rare: paresthesia  Gastrointestinal disorders: Common: gastrointestinal symptoms (such as nausea, vomiting,  diarrhea, abdominal pain)  Skin and subcutaneous tissue disorders: Rare: rash, pruritus, urticaria  Musculoskeletal and connective tissue disorders: Uncommon: myalgia; Rare: arthralgia  General disorders and administration site conditions: Very common: pain and redness at  injection site, fatigue; Common: swelling at injection site, malaise, injection site reaction (such  as induration), fever (≥37.5°C); Uncommon: influenza-like illness  Post-marketing Data  The following adverse events have been reported following widespread use of the vaccine.\n",
            "As with other hepatitis B vaccines, in many instances the causal relationship to the vaccine  has not been established.\n",
            "These reactions are usually mild and subside within two  days; Very rare: ecchymosis at the injection site  Musculoskeletal system: Rare:  arthralgia, myalgia; Very rare: arthritis; Unknown frequency:  muscular weakness  Platelet bleeding and clotting: Very rare: thrombocytopenia  Psychiatric: Very rare: disturbed sleep  Respiratory system: Very rare: bronchospasm-like symptoms, pharyngitis or other upper  respiratory infection, cough  Skin and appendages: Rare:  urticaria, rash, pruritus; Very rare:  severe skin disorders such  as erythema multiforme, angioedema; Unknown frequency: lichen planus  Urinary system: Very rare: dysuria  Vascular extracardiac: Very rare:  vasculitis  White cell and reticulo-endothelial system: Very rare:  lymphadenopathy  Reporting suspected adverse effects  Reporting suspected adverse reactions after registration of the medicinal product is  important.\n",
            "It allows continued monitoring of the benefit-risk balance of the medicinal product.\n",
            "Clinical trials  Protective Efficacy  Clinical trials demonstrated SC rates of ≥ 97% (seroprotection (SP) rates of ≥ 96%) in normal  immunocompetent adults and children following a 0, 1, 6 months schedule, and SC rates of  >90% in neonates following injections at 0, 1, 2 months.\n",
            "In healthy adults administered vaccine doses according to a 0, 1, 2 month primary schedule  with a 12 month booster, seroprotective rates of 15% and 89% were achieved one month after  the first and third doses respectively.\n",
            "In healthy adolescents (from 11 years up to and including 15 years of age) administered doses  of 20 µg at 0 and 6 months, SP rates were 11.3% at month 2, 26.4% at month 6 and 96.7%  at month 7.\n",
            "The seroprotection rates (SP) obtained with the two different dosages and schedules  recommended in participants from 11 years up to and including 15 years of age were  evaluated up to 66 months after the first dose of the primary vaccination and are presented in  Table 2.\n",
            "Table 2: Seroprotection Rates obtained with two different dosages in participants 11 to  15 years   Vaccine groups Anti-HBs  Month 2  SP (%)  Anti-HBs  Month 6  SP (%)  Anti-HBs  Month 7  SP (%)  Anti-HBs  Month 30  SP (%)  Anti-HBs  Month 42  SP (%)  Anti-HBs  Month 54  SP (%)  Anti-HBs  Month 66  SP (%)  ENGERIX-B 10 µg   (0, 1, 6 months  schedule)  55.8  (46.1- 65.1)1  87.6  (80.1- 93.1)1  98.2  (93.8- 99.8)1  96.9  (89.2- 99.6)1  92.5  (84.4- 97.2)1  94.7  (87.1- 98.5)1  91.4  (82.3- 96.8)1  ENGERIX-B 20 µg  (0, 6 months  schedule)  11.3  (7.5- 15.9)1  26.4  (20.9- 32.4)1  96.7  (93.6- 98.6)1  87.1  (80.4- 92.2)1  83.7  (77.2- 89.0)1  84.4  (77.5- 89.8)1  79.5  (71.7- 86.1)1  14  1 95% confidence interval, (lower limit – upper limit)  These data show that a primary vaccination with ENGERIX-B vaccine induces circulating anti- HBs antibodies that persist for at least 66 months.\n",
            "From one month after completion of the  primary course through to 66 months i.e. Month 7 to Month 66, the Seroprotection rates were  comparable between the 2 groups but tended to be lower in the 20 µg Group (0, 6 months  schedule) compared to the 10 µg Group (0, 1, 6 month schedule) at all timepoints.\n",
            "The  seroprotection rates at Month 66 were 79.5% (95%CI 71.7%, 86.1%) and 91.4% (95%CI  82.3%, 96.8%) in the 20 µg Group and 10 µg Group respectively.\n",
            "All participants in both  vaccine groups (including participants with anti-HBs antibody concentrations < 10 IU/L)  received a challenge dose 72 to 78 months after primary vaccination.\n",
            "One month after the  challenge dose, all participants mounted an anamnestic response to the challenge dose and  were shown to be seroprotected (i.e. anti-HBs antibody concentrations ≥ 10 IU/L).\n",
            "In a clinical trial where thalassaemic patients received three doses of 20 µg at  0, 1, 6 months, SC rates as well as SP rates were 100% (17 participants tested).\n",
            "15  Patients with renal insufficiency  In patients 16 years of age and above with impaired renal function, including patients  undergoing haemodialysis administered 40 µg (2 x 20 µg) doses at 0, 1, 2 and 6 months, SP  rates were  55.4% at month 3 and  87.1% at month 7.\n",
            "Table 3: Seroprotection Rates (SP) obtained with 40 µg (2 x 20 µg) doses in  haemodialysis and pre-haemodialysis patients 16 years of age and above  Group Timing N SP      n        %  Pre-haemodialysis  patients  Month 1  Month 2  Month 3  Month 6  Month 7  Month 12  42  42  42  38  39  36    3       7.1    5     11.9  18     42.9  21     55.3  31     79.5  27     75.0  Haemodialysis patients Month 1  Month 2  Month 3  Month 6  Month 7  Month 12  41  41  40  39  38  34    1       2.4  13     31.7  25     62.5  30     76.9  34     89.5  27     79.4  Immunogenicity was measured by the development of antibody to HBsAg as detected by  enzyme immunoassay (seropositivity cut-off: 3.3 mIU/mL), using a titre of ≥10 IU/L as  indicative of seroprotection.\n",
            "16  Table 4: Seroprotection Rates (SP) in subjects 20 years of age and above with type II  diabetes  Age (years) Schedule Seroprotection rate at month 7   ≥ 10 mIU/ml  % 95 % CI  LL UL  20-39 <BMI 30 kg/m2 0, 1, 6 months  (20 µg)  85.7 57.2 98.2  20-39 ≥BMI 30 kg/m2 89.5 75.2 97.1  40-49 <BMI 30 kg/m2 80.8 60.6 93.4  40-49 ≥BMI 30 kg/m2 81.4 69.1 90.3  50-59 <BMI 30 kg/m2 90.2 79.8 96.3  50-59 ≥BMI 30 kg/m2 75.9 62.8 86.1  ³ 60 <BMI 30 kg/m2 66.7 53.3 78.3  *Data source: Study 115918 (HBV-323) Table 42 Seropositivity rates, Seroprotection rates and geometric mean  concentrations (GMCs) for anti-HBs antibody concentrations by groups before first dose of vaccination and one  month after third dose of vaccination by stratified groups by age and BMI (ATP cohort for Immunogenicity)  Reduction in the incidence of hepatocellular carcinoma in children  A significant reduction in the incidence of hepatocellular carcinoma was observed in  Taiwanese children aged 6 - 14 years, following a nationwide hepatitis B vaccination program.\n",
            "Interchangeability of hepatitis B vaccines  Although no clinical data has been submitted, there is no reason to believe that the use of a  different formulation of hepatitis B vaccine used either during a primary vaccination course or  during booster dosing will not be satisfactory.\n",
            "6.4 SPECIAL PRECAUTIONS FOR STORAGE   ENGERIX-B must be stored between +2°C to +8°C.\n",
            "6.5 NATURE AND CONTENTS OF CONTAINER   ENGERIX-B 20 µg (Adult dose):  Monodose vials (1 mL) in packs of 1, 10 and 25.\n",
            "ENGERIX-B PAEDIATRIC DOSE 10 µg:  Monodose vials (0.5 mL) in packs of 1, 10 and 25.\n",
            "Australian PRODUCT INFORMATION \tengerix-B (hepatitis B surface antigen recombinant (yeast)) vaccine, suspension for injection \t1 Name of the medicine \t2 Qualitative and quantitative composition \t3 Pharmaceutical form \t4 Clinical particulars \t4.1 THERAPEUTIC INDICATIONS \t4.2 DOSE AND METHOD OF ADMINISTRATION \t4.3 CONTRAINDICATIONS \t4.4 SPECIAL WARNINGS AND PRECAUTIONS FOR USE \tUse in hepatic impairment \tUse in renal impairment \tUse in the elderly \tPaediatric use \tEffects on laboratory tests \t4.5 INTERACTIONS WITH OTHER MEDICINES AND OTHER FORMS OF INTERACTIONS \t4.6 FERTILITY, PREGNANCY AND LACTATION \tEffects on fertility \tUse in pregnancy \t(Pregnancy Category B2) \tUse in lactation \t4.7 EFFECTS ON ABILITY TO DRIVE AND USE MACHINES \t4.8 ADVERSE EFFECTS (UNDESIRABLE EFFECTS) \t4.9 OVERDOSE \t5 Pharmacological properties \t5.1 PHARMACODYNAMIC PROPERTIES \tMechanism of action \tClinical trials \t5.2 PHARMACOKINETIC PROPERTIES \t5.3 PRECLINICAL SAFETY DATA \tGenotoxicity \tCarcinogenicity \t6 Pharmaceutical particulars \t6.1 LIST OF EXCIPIENTS \t6.2 INCOMPATIBILITIES \t6.3 SHELF LIFE \t6.4 SPECIAL PRECAUTIONS FOR STORAGE \t6.5 NATURE AND CONTENTS OF CONTAINER \t6.6 SPECIAL PRECAUTIONS FOR DISPOSAL \t6.7 PHYSICOCHEMICAL PROPERTIES \t7  Medicine schedule (Poisons Standard) \t8 Sponsor \t9 Date of first approval \t10 Date of revision \tSUMMARY TABLE OF CHANGES\n"
          ]
        }
      ]
    },
    {
      "cell_type": "code",
      "metadata": {
        "id": "CWsJfc-pmvwB"
      },
      "source": [
        "from sumy.summarizers.luhn import LuhnSummarizer\n",
        "Luhn = LuhnSummarizer()\n",
        "Luhn_summary = Luhn(parser.document,70)"
      ],
      "execution_count": null,
      "outputs": []
    },
    {
      "cell_type": "code",
      "metadata": {
        "id": "68ki3ar_nWcp",
        "outputId": "b6fceab7-e3ea-475e-c3a9-d6378133e1f8",
        "colab": {
          "base_uri": "https://localhost:8080/"
        }
      },
      "source": [
        "for sentence in Luhn_summary:\n",
        "    print(sentence)"
      ],
      "execution_count": null,
      "outputs": [
        {
          "output_type": "stream",
          "name": "stdout",
          "text": [
            "1  AUSTRALIAN PRODUCT INFORMATION  ENGERIX-B (hepatitis B surface antigen recombinant (yeast))  vaccine, suspension for injection  1 NAME OF THE MEDICINE  Hepatitis B surface antigen recombinant (yeast)  2 QUALITATIVE AND QUANTITATIVE COMPOSITION  ENGERIX-B PAEDIATRIC DOSE: 10 µg dose vaccine  1 dose (0.5 mL) contains:  Hepatitis B surface antigen 1, 2 10 micrograms  1Adsorbed on aluminium hydroxide hydrate     Total: 0.25 milligrams Al3+  2Produced in yeast cells (Saccharomyces cerevisiae) by recombinant DNA technology  ENGERIX-B: 20 µg dose vaccine  1 dose (1 mL) contains:  Hepatitis B surface antigen1, 2 20 micrograms  1Adsorbed on aluminium hydroxide hydrate Total: 0.50 milligrams Al3+  2Produced in yeast cells (Saccharomyces cerevisiae) by recombinant DNA technology  For the full list of excipients, see Section 6.1 LIST OF EXCIPIENTS.\n",
            "No evidence  exists that any case of vCJD (considered to be the human form of bovine spongiform  encephalopathy) has resulted from the administration of any vaccine product.\n",
            "2  As hepatitis D (caused by the delta agent) does not occur in the absence of hepatitis B  infection, it can be expected that hepatitis D will also be prevented by vaccination with  ENGERIX-B.\n",
            "The vaccine will not protect against infection caused by hepatitis A, hepatitis C  and hepatitis E viruses, and other pathogens known to infect the liver.\n",
            "Adults and adolescents older than 19 years:  A dose of 20 µg of antigen protein in 1 mL is recommended in a 0, 1, 6 month schedule.\n",
            "Adolescents:  In adolescents from the age of 10 years, up to and including 19 years, a 10 µg dose is  recommended provided the immunisation is carried out in the 0, 1, 6 month schedule, in  circumstances which will ensure compliance to the full vaccination course.\n",
            "If compliance  cannot be assured, then a 20 µg dose should be used to increase the proportion of participants  protected after the first and second doses.\n",
            "The 20 µg vaccine can also be used in participants from 11 years up to and including 15 years  of age in a 0 and 6 month schedule in situations when there is a relatively low risk of hepatitis  B infection during the vaccination course and when compliance with the complete vaccination  course can be anticipated.\n",
            "Neonates, infants and children below 10 years of age:    A dose of 10 µg of antigen protein in 0.5 mL suspension is recommended in a 0, 1, 6 months  schedule.\n",
            "Vaccination Schedules  For primary vaccination of adults, adolescents and children not previously exposed to the  hepatitis B virus, the schedules are as follows:  3   Vaccine dose Initial 1 month* 6 months*  Adults and  adolescents  over 19 years  20 µg 1 mL 1 mL 1 mL  Adolescents  from 10 up to  and including  19 years ‡  10 µg 0.5 mL 0.5 mL 0.5 mL  Adolescents  from 11 years  up to and  including 15  years of age #  20 µg 1 mL - 1 mL  Neonates∇ and  children  younger than  10 years  10 µg 0.5 mL 0.5 mL 0.5 mL  * after first dose  ‡  if compliance cannot be assured a 20 µg dose should be used.\n",
            "#  The 20 µg vaccine may be administered in participants from 11 years up to and including 15 years of age according to a 0,6  months schedule.\n",
            "However, in this case, protection against hepatitis B infections may not be obtained until after the second  dose (see Section 5.1 PHARMACODYNAMIC PROPERTIES).\n",
            "Therefore this schedule should be used only when there is a  relatively low risk of hepatitis B infection during the vaccination course and when completion of the two-dose vaccination course  can be anticipated.\n",
            "∇  The recommended schedule for hepatitis B vaccine in neonates is 0, 2, 4 and 6 months (refer to the Australian Immunisation  Handbook).\n",
            "The recommended treatment regimen for infants born to HBsAg positive mothers (irrespective  of the mother’s HBeAg status) is as follows:   Vaccine  Dose  At birth 1 month* 6 months*  ENGERIX-B vaccine 10 µg 0.5 mL 0.5 mL 0.5 mL  Hepatitis B Immunoglobulin (HBIG) - 100 IU - -  * after first dose  4  The first dose of vaccine and immunoglobulin should preferably be given within 12 hours of  birth at separate sites.\n",
            "Accelerated schedules  In circumstances where more rapid protection is required (e.g. contacts of carriers,  immunisation of travellers and newborns to carrier women) two accelerated vaccination  schedules of 0, 1 and 2 months or 0, 7 and 21 days may be used.\n",
            "However, as higher  seroprotective rates are observed following the 0, 1, 2 month schedule, it is recommended the  0, 7, 21 day schedule be administered only to adults, and only in exceptional circumstances  (e.g travellers commencing hepatitis B primary vaccination within one month of departure) (see  Section 5.1 PHARMACODYNAMIC PROPERTIES).\n",
            "Since the peak antibody levels reached  after these shorter schedules of primary vaccination are lower compared to the 0, 1 and 6 month  schedule, it is recommended that a fourth dose (booster) be given at 12 months after the first  dose of vaccine, in order to ensure adequate seroprotection rates.\n",
            "Dosage adjustment   Renal impairment/dialysis  Chronic adult haemodialysis patients/Patients with impaired renal function (creatinine  clearance <30 mL/min) 16 years of age and above  The primary vaccination schedule for chronic adult haemodialysis patients or patients with  impaired renal function 16 years of age and above consists of four doses of 40 µg.\n",
            "Vaccine dose Initial 1 month* 2 months* 6 months*  Chronic  haemodialysis or  Impaired renal  function patients  40 µg 2 mL 2 mL 2 mL 2 mL  * after first dose  As vaccine-induced protection in haemodialysis patients is less complete, boosting should be  adapted in order to ensure the anti-HBs antibody titre remains above 10IU/L (see Section 4.4  SPECIAL WARNINGS AND PRECAUTIONS FOR USE).\n",
            "5  Post-exposure prophylaxis  There are no adequately controlled studies on the effectiveness of hepatitis B immunoglobulin  administration, along with the vaccine, in adults and older children exposed to hepatitis B virus  through 1) needlestick, ocular or mucous membrane exposure to blood known or presumed to  contain HBsAg; 2) human bites by known or presumed HBsAg carriers that penetrate the skin;   3) following intimate sexual contact with known or presumed HBsAg carriers.\n",
            "Booster dose  The Australian Immunisation Handbook recommends that booster doses against hepatitis B  are not required in immunocompetent individuals, since there is good evidence that a  completed primary course of hepatitis B vaccination provides long lasting protection in these  individuals.\n",
            "The timing for boosting in these individuals should be  decided by regular monitoring of hepatitis B antibody levels at six to twelve monthly intervals.\n",
            "In adults, the injection should be given in the  deltoid region but it may be preferable to inject ENGERIX-B in the anterolateral thigh in  neonates and infants because of the small size of their deltoid muscle.\n",
            "4.3 CONTRAINDICATIONS  ENGERIX-B should not be administered to participants with known hypersensitivity to any  component of the vaccine, or to participants having shown signs of hypersensitivity after  previous ENGERIX-B administration.\n",
            "It is good clinical practice that any vaccination be preceded by a review of medical history  (especially with regard to previous vaccinations and possible adverse events) and a clinical  examination.\n",
            "haemophiliacs) the vaccine may be administered subcutaneously, since bleeding after  intramuscular injection may occur in these patients (see Section 4.2 DOSE AND METHOD  OF ADMINISTRATION).\n",
            "The immune response to hepatitis B vaccines is related to a number of factors including route  of administration, age (more than 40 years of age), male gender, obesity, and smoking habits.\n",
            "In dialysis patients, HIV infected patients and participants who have impairment of the immune  system, adequate antibody concentrations may not be obtained after the recommended  primary vaccination course.\n",
            "The need for monitoring antibody levels in such patients should  7  be considered (see Section 4.2 DOSE AND METHOD OF ADMINISTRATION, Chronic adult  haemodialysis patients/Patients with impaired renal function (creatinine clearance <30  mL/min) 16 years of age and above).\n",
            "Caution should be exercised in administering the vaccine to patients in whom a systemic  reaction due to the vaccine may pose a significant risk; eg in patients with severely  compromised cardiopulmonary function.\n",
            "Because of the long incubation period of hepatitis B, it is possible for unrecognised infection  to be present at the time of vaccination.\n",
            "The vaccine will not protect against infection caused by hepatitis A, hepatitis C and hepatitis  E viruses, and other pathogens known to infect the liver.\n",
            "The potential risk of apnoea and the need for respiratory monitoring for 48-72 hours should  be considered when administering the primary immunisation series to very premature infants  (born ≤ 28 weeks of gestation) and particularly for those with a previous history of respiratory  immaturity.\n",
            "Use in renal impairment   See Section 4.4 SPECIAL WARNINGS AND PRECAUTIONS FOR USE above, for use in  haemodialysis patients.\n",
            "4.5 INTERACTIONS WITH OTHER MEDICINES AND OTHER FORMS OF  INTERACTIONS  ENGERIX-B SHOULD NOT BE MIXED IN THE SAME SYRINGE WITH OTHER VACCINES.\n",
            "Administration of ENGERIX-B at the same time as CERVARIX (HPV vaccine) has shown no  clinically relevant interference in the antibody response to the HPV antigens.\n",
            "The simultaneous administration of ENGERIX-B and hepatitis B immunoglobulin (HBIG) does  not result in reduced anti-HBs antibody titres provided separate injection sites are used.\n",
            "Use in pregnancy  (Pregnancy Category B2)  Adequate human data on use during pregnancy and adequate animal reproduction studies  are not available.\n",
            "Clinical Trials Experience  Based on clinical trial symptom sheet data, the incidence of local side effects is 24% and of  systemic side effects 8%; both local and systemic side effects occurred in approximately 13%  of participants.\n",
            "In a comparative trial in participants from 11 years up to and including 15 years of age, the  incidence of local and general solicited symptoms reported after a two-dose regimen of  ENGERIX-B 20 µg was overall similar to that reported after the standard three-dose regimen  of ENGERIX-B 10 µg.\n",
            "Adverse effects data from patients who received a challenge dose of ENGERIX-B 10 µg  (preservative free) at 72 to 78 months after primary vaccination is shown in the below table.\n",
            "Table 1: Adverse effects data from patients who received a challenge dose of ENGERIX- B 10 µg at 72 to 78 months after primary vaccination  Incidence and Nature of Symptoms reported during the 4-day (Days 0-3) post-vaccination  period       (Total Vaccinated cohort)   Group 1 (N=55) Group 2 (N=22) Pooled (N=77)  n % 95% CI n % 95% CI n % 95% CI  LL UL LL UL LL UL  Any symptom 38 69.1 55.2 80.9 14 63.6 40.7 82.8 52 67.5 55.9 77.8  General symptoms 26 47.3 33.7 61.2 12 54.5 32.2 75.6 38 49.4 37.8 61.0  Local symptoms 31 56.4 42.3 69.7 5 22.7 7.8 45.4 36 46.8 35.3 58.5  Solicited local symptoms  Pain Any 22 40.0 27.0 54.1 4 18.2 5.2 40.3 26 33.8 23.4 45.4  Grade 3 0 0.0 0.0 6.5 0 0.0 0.0 15.4 0 0.0 0.0 4.7  M.A 0 0.0 0.0 6.5 0 0.0 0.0 15.4 0 0.0 0.0 4.7  Redness  (mm)  Any 11 20.0 10.4 33.0 1 4.5 0.1 22.8 12 15.6 8.3 25.6  ≥ 50mm 0 0.0 0.0 6.5 0 0.0 0.0 15.4 0 0.0 0.0 4.7  M.A 0 0.0 0.0 6.5 0 0.0 0.0 15.4 0 0.0 0.0 4.7  Swelling  (mm)  Any 9 16.4 7.8 28.8 0 0.0 0.0 15.4 9 11.7 5.5 21.0  ≥ 50mm 0 0.0 0.0 6.5 0 0.0 0.0 15.4 0 0.0 0.0 4.7  M.A 0 0.0 0.0 6.5 0 0.0 0.0 15.4 0 0.0 0.0 4.7  Solicited General Symptoms  Fatigue Any 19 34.5 22.2 48.6 7 31.8 13.9 54.9 26 33.8 23.4 45.4  Grade 3 1 1.8 0.0 9.7 0 0.0 0.0 15.4 1 1.3 0.0 7.0  10  Related 15 27.3 16.1 41.0 7 31.8 13.9 54.9 22 28.6 18.8 40.0  Grade 3  Related  0 0.0 0.0 6.5 0 0.0 0.0 15.4 0 0.0 0.0 4.7  M.A 1 1.8 0.0 9.7 0 0.0 0.0 15.4 1 1.3 0.0 7.0  Fever/  (Axillary)  (°C)  Any 1 1.8 0.0 9.7 0 0.0 0.0 15.4 1 1.3 0.0 7.0  ≥  37.5°C  1 1.8 0.0 9.7 0 0.0 0.0 15.4 1 1.3 0.0 7.0  >38.0°C 0 0.0 0.0 6.5 0 0.0 0.0 15.4 0 0.0 0.0 4.7  Related 0 0.0 0.0 6.5 0 0.0 0.0 15.4 0 0.0 0.0 4.7  >39.5°C  Related  0 0.0 0.0 6.5 0 0.0 0.0 15.4 0 0.0 0.0 4.7  M.A 1 1.8 0.0 9.7 0 0.0 0.0 15.4 1 1.3 0.0 7.0  Gastro- intestinal  symptoms  All 7 12.7 5.3 24.5 4 18.2 5.2 40.3 11 14.3 7.4 24.1  Grade 3 0 0.0 0.0 6.5 0 0.0 0.0 15.4 0 0.0 0.0 4.7  Related 7 12.7 5.3 24.5 2 9.1 1.1 29.2 9 11.7 5.5 21.0  Grade 3  Related  0 0.0 0.0 6.5 0 0.0 0.0 15.4 0 0.0 0.0 4.7  M.A 0 0.0 0.0 6.5 0 0.0 0.0 15.4 0 0.0 0.0 4.7  Headache All 14 25.5 14.7 39.0 4 18.2 5.2 40.3 18 23.4 14.5 34.4  Grade 3 0 0.0 0.0 6.5 0 0.0 0.0 15.4 0 0.0 0.0 4.7  Related 11 20.0 10.4 33.0 3 13.6 2.9 34.9 14 18.2 10.3 28.6  Grade 3  Related  0 0.0 0.0 6.5 0 0.0 0.0 15.4 0 0.0 0.0 4.7  M.A 1 1.8 0.0 9.7 0 0.0 0.0 15.4 1 1.3 0.0 7.0  Group 1 = received two doses of ENGERIX-B (20 μg HBsAg) in the primary study  Group 2 = received three doses of ENGERIX-B (10 μg HBsAg) in the primary study  N = number of participants who received the vaccine  n (%) = number (percentage) of participants who reported the symptom at least once  95% CI = Exact 95% confidence interval; LL = Lower limit, UL = Upper limit  Any = all reports of the specified symptom irrespective of intensity grade and relationship to vaccination  Grade 3 pain, fatigue, gastrointestinal symptoms, headache = pain, fatigue, gastrointestinal symptoms, headache that  prevented normal activity  Related = symptoms considered by the investigator to have causal relationship to vaccination  Grade 3 Related = adverse event which prevented normal everyday activities and was assessed as causally related to  vaccination  M.A.\n",
            "= symptoms for which the participants received medical attention  Pooled = Pooled results of Group 1 and Group 2  The safety profile presented below is based on data from more than 5,300 participants.\n",
            "Events  are listed within body systems and categorised by frequency according to the following  definitions:  Frequencies are reported as:  Very common: ≥ 1/10  Common: ≥1/100, <1/10  Uncommon: ≥1/1,000, <1/100  Rare: ≥1/10,000, <1/1,000  Very rare: <1/10,000 including isolated reports  11  Blood and lymphatic system disorders: Rare: lymphadenopathy  Metabolism and nutrition disorders: Common: appetite lost  Psychiatric disorders: Very common: irritability  Nervous system disorders: Common: headache (very common with 10 µg formulation),  drowsiness; Uncommon: dizziness; Rare: paresthesia  Gastrointestinal disorders: Common: gastrointestinal symptoms (such as nausea, vomiting,  diarrhea, abdominal pain)  Skin and subcutaneous tissue disorders: Rare: rash, pruritus, urticaria  Musculoskeletal and connective tissue disorders: Uncommon: myalgia; Rare: arthralgia  General disorders and administration site conditions: Very common: pain and redness at  injection site, fatigue; Common: swelling at injection site, malaise, injection site reaction (such  as induration), fever (≥37.5°C); Uncommon: influenza-like illness  Post-marketing Data  The following adverse events have been reported following widespread use of the vaccine.\n",
            "Autonomic nervous system: Rare:  flushing, sweating  Body as a whole: Rare:  fever, fatigue, malaise, chills; Very rare: anaphylaxis, delayed  hypersensitivity reactions, mimicking serum sickness; Unknown frequency: allergic reactions  including anaphylactoid reactions  Cardiovascular: Very rare:  syncope, hypotension  Central and peripheral nervous system: Rare:  paraesthesia, dizziness, headache; Very rare:   paralysis, neuropathy (including Guillain-Barre syndrome, facial paralysis, optic neuritis [visual  disturbance] and multiple sclerosis), encephalitis, encephalopathy, meningitis, neck stiffness,  neuritis and vertigo, convulsions; Unknown frequency: hypoaesthesia  Gastrointestinal system: Rare:  nausea, vomiting, diarrhoea, abdominal pain; Very rare:  anorexia  Hearing and Vestibular: Very rare:  tinnitus  Liver and biliary system: Rare:  abnormal liver function tests  12  Local reactions: Common:  transient soreness, pain, induration, erythema, and swelling at the  injection site have been reported.\n",
            "These reactions are usually mild and subside within two  days; Very rare: ecchymosis at the injection site  Musculoskeletal system: Rare:  arthralgia, myalgia; Very rare: arthritis; Unknown frequency:  muscular weakness  Platelet bleeding and clotting: Very rare: thrombocytopenia  Psychiatric: Very rare: disturbed sleep  Respiratory system: Very rare: bronchospasm-like symptoms, pharyngitis or other upper  respiratory infection, cough  Skin and appendages: Rare:  urticaria, rash, pruritus; Very rare:  severe skin disorders such  as erythema multiforme, angioedema; Unknown frequency: lichen planus  Urinary system: Very rare: dysuria  Vascular extracardiac: Very rare:  vasculitis  White cell and reticulo-endothelial system: Very rare:  lymphadenopathy  Reporting suspected adverse effects  Reporting suspected adverse reactions after registration of the medicinal product is  important.\n",
            "Clinical trials  Protective Efficacy  Clinical trials demonstrated SC rates of ≥ 97% (seroprotection (SP) rates of ≥ 96%) in normal  immunocompetent adults and children following a 0, 1, 6 months schedule, and SC rates of  >90% in neonates following injections at 0, 1, 2 months.\n",
            "In healthy adults administered vaccine doses according to a 0, 1, 2 month primary schedule  with a 12 month booster, seroprotective rates of 15% and 89% were achieved one month after  the first and third doses respectively.\n",
            "In healthy adults administered a 0, 7, 21  day primary schedule with a 12 month booster, seroprotective rates of 65.2% and 76.4% were  achieved one week and one month respectively following the third vaccine dose.\n",
            "In healthy adolescents (from 11 years up to and including 15 years of age) administered doses  of 20 µg at 0 and 6 months, SP rates were 11.3% at month 2, 26.4% at month 6 and 96.7%  at month 7.\n",
            "Immunogenicity in this study was measured by the development of antibody to  HBsAg as detected by enzyme immunoassay (seropositivity cut-off: 3.3 mIU/mL), using a titre  of ≥ 10 IU/L as indicative of seroprotection.\n",
            "The seroprotection rates (SP) obtained with the two different dosages and schedules  recommended in participants from 11 years up to and including 15 years of age were  evaluated up to 66 months after the first dose of the primary vaccination and are presented in  Table 2.\n",
            "Table 2: Seroprotection Rates obtained with two different dosages in participants 11 to  15 years   Vaccine groups Anti-HBs  Month 2  SP (%)  Anti-HBs  Month 6  SP (%)  Anti-HBs  Month 7  SP (%)  Anti-HBs  Month 30  SP (%)  Anti-HBs  Month 42  SP (%)  Anti-HBs  Month 54  SP (%)  Anti-HBs  Month 66  SP (%)  ENGERIX-B 10 µg   (0, 1, 6 months  schedule)  55.8  (46.1- 65.1)1  87.6  (80.1- 93.1)1  98.2  (93.8- 99.8)1  96.9  (89.2- 99.6)1  92.5  (84.4- 97.2)1  94.7  (87.1- 98.5)1  91.4  (82.3- 96.8)1  ENGERIX-B 20 µg  (0, 6 months  schedule)  11.3  (7.5- 15.9)1  26.4  (20.9- 32.4)1  96.7  (93.6- 98.6)1  87.1  (80.4- 92.2)1  83.7  (77.2- 89.0)1  84.4  (77.5- 89.8)1  79.5  (71.7- 86.1)1  14  1 95% confidence interval, (lower limit – upper limit)  These data show that a primary vaccination with ENGERIX-B vaccine induces circulating anti- HBs antibodies that persist for at least 66 months.\n",
            "From one month after completion of the  primary course through to 66 months i.e. Month 7 to Month 66, the Seroprotection rates were  comparable between the 2 groups but tended to be lower in the 20 µg Group (0, 6 months  schedule) compared to the 10 µg Group (0, 1, 6 month schedule) at all timepoints.\n",
            "All participants in both  vaccine groups (including participants with anti-HBs antibody concentrations < 10 IU/L)  received a challenge dose 72 to 78 months after primary vaccination.\n",
            "One month after the  challenge dose, all participants mounted an anamnestic response to the challenge dose and  were shown to be seroprotected (i.e. anti-HBs antibody concentrations ≥ 10 IU/L).\n",
            "These data  suggest that protection against hepatitis B may still be conferred through immune memory in  all participants who responded to primary vaccination but lost seroprotection level of anti-HBs  antibodies.\n",
            "Rechallenge in healthy participants  In a clinical study conducted in Germany, healthy participants (N=284) aged 12 to 13 years  vaccinated during infancy with 3 doses of ENGERIX-B received a challenge dose of  ENGERIX-B.\n",
            "At risk groups:  In clinical studies performed in Thailand twenty years after primary vaccination during infancy,  participants born to mothers who were HBV carriers, received a challenge dose of ENGERIX- B.\n",
            "One month later, at least 93% of participants (N=75) mounted an anamnestic response i.e.  at least (greater than or equal to) a 4-fold rise in post-challenge dose anti-HB’s antibody  concentrations in subjects seropositive at the previous available long-term time-point,  demonstrating immune memory.\n",
            "Following a 0, 1, 6 month schedule, SC rates of 96.6% and 99% (corresponding to SP rates  of 92.3% and 93%) were obtained in interllectually impaired individuals and male homosexuals  respectively.\n",
            "In a clinical trial where thalassaemic patients received three doses of 20 µg at  0, 1, 6 months, SC rates as well as SP rates were 100% (17 participants tested).\n",
            "15  Patients with renal insufficiency  In patients 16 years of age and above with impaired renal function, including patients  undergoing haemodialysis administered 40 µg (2 x 20 µg) doses at 0, 1, 2 and 6 months, SP  rates were  55.4% at month 3 and  87.1% at month 7.\n",
            "Table 3: Seroprotection Rates (SP) obtained with 40 µg (2 x 20 µg) doses in  haemodialysis and pre-haemodialysis patients 16 years of age and above  Group Timing N SP      n        %  Pre-haemodialysis  patients  Month 1  Month 2  Month 3  Month 6  Month 7  Month 12  42  42  42  38  39  36    3       7.1    5     11.9  18     42.9  21     55.3  31     79.5  27     75.0  Haemodialysis patients Month 1  Month 2  Month 3  Month 6  Month 7  Month 12  41  41  40  39  38  34    1       2.4  13     31.7  25     62.5  30     76.9  34     89.5  27     79.4  Immunogenicity was measured by the development of antibody to HBsAg as detected by  enzyme immunoassay (seropositivity cut-off: 3.3 mIU/mL), using a titre of ≥10 IU/L as  indicative of seroprotection.\n",
            "Patients with type II diabetes  The seroprotection rates in subjects 20 years of age and above with type II diabetes were  evaluated one month after the last dose of the primary vaccination and are presented in Table  4.\n",
            "16  Table 4: Seroprotection Rates (SP) in subjects 20 years of age and above with type II  diabetes  Age (years) Schedule Seroprotection rate at month 7   ≥ 10 mIU/ml  % 95 % CI  LL UL  20-39 <BMI 30 kg/m2 0, 1, 6 months  (20 µg)  85.7 57.2 98.2  20-39 ≥BMI 30 kg/m2 89.5 75.2 97.1  40-49 <BMI 30 kg/m2 80.8 60.6 93.4  40-49 ≥BMI 30 kg/m2 81.4 69.1 90.3  50-59 <BMI 30 kg/m2 90.2 79.8 96.3  50-59 ≥BMI 30 kg/m2 75.9 62.8 86.1  ³ 60 <BMI 30 kg/m2 66.7 53.3 78.3  *Data source: Study 115918 (HBV-323) Table 42 Seropositivity rates, Seroprotection rates and geometric mean  concentrations (GMCs) for anti-HBs antibody concentrations by groups before first dose of vaccination and one  month after third dose of vaccination by stratified groups by age and BMI (ATP cohort for Immunogenicity)  Reduction in the incidence of hepatocellular carcinoma in children  A significant reduction in the incidence of hepatocellular carcinoma was observed in  Taiwanese children aged 6 - 14 years, following a nationwide hepatitis B vaccination program.\n",
            "Interchangeability of hepatitis B vaccines  Although no clinical data has been submitted, there is no reason to believe that the use of a  different formulation of hepatitis B vaccine used either during a primary vaccination course or  during booster dosing will not be satisfactory.\n",
            "7  MEDICINE SCHEDULE (POISONS STANDARD)  Schedule 4 – Prescription Only Medicine   8 SPONSOR   GlaxoSmithKline Australia Pty Ltd  Level 4, 436 Johnston Street,   18  Abbotsford, Victoria, 3067  Australia  9 DATE OF FIRST APPROVAL    24 July 2006  10 DATE OF REVISION   5 November 2020  SUMMARY TABLE OF CHANGES  Section  Changed Summary of new information  4.2 Editorial update to discarding statement in this section  Version 9.0  Trade marks are owned by or licensed to the GSK group of companies.\n",
            "Australian PRODUCT INFORMATION \tengerix-B (hepatitis B surface antigen recombinant (yeast)) vaccine, suspension for injection \t1 Name of the medicine \t2 Qualitative and quantitative composition \t3 Pharmaceutical form \t4 Clinical particulars \t4.1 THERAPEUTIC INDICATIONS \t4.2 DOSE AND METHOD OF ADMINISTRATION \t4.3 CONTRAINDICATIONS \t4.4 SPECIAL WARNINGS AND PRECAUTIONS FOR USE \tUse in hepatic impairment \tUse in renal impairment \tUse in the elderly \tPaediatric use \tEffects on laboratory tests \t4.5 INTERACTIONS WITH OTHER MEDICINES AND OTHER FORMS OF INTERACTIONS \t4.6 FERTILITY, PREGNANCY AND LACTATION \tEffects on fertility \tUse in pregnancy \t(Pregnancy Category B2) \tUse in lactation \t4.7 EFFECTS ON ABILITY TO DRIVE AND USE MACHINES \t4.8 ADVERSE EFFECTS (UNDESIRABLE EFFECTS) \t4.9 OVERDOSE \t5 Pharmacological properties \t5.1 PHARMACODYNAMIC PROPERTIES \tMechanism of action \tClinical trials \t5.2 PHARMACOKINETIC PROPERTIES \t5.3 PRECLINICAL SAFETY DATA \tGenotoxicity \tCarcinogenicity \t6 Pharmaceutical particulars \t6.1 LIST OF EXCIPIENTS \t6.2 INCOMPATIBILITIES \t6.3 SHELF LIFE \t6.4 SPECIAL PRECAUTIONS FOR STORAGE \t6.5 NATURE AND CONTENTS OF CONTAINER \t6.6 SPECIAL PRECAUTIONS FOR DISPOSAL \t6.7 PHYSICOCHEMICAL PROPERTIES \t7  Medicine schedule (Poisons Standard) \t8 Sponsor \t9 Date of first approval \t10 Date of revision \tSUMMARY TABLE OF CHANGES\n"
          ]
        }
      ]
    },
    {
      "cell_type": "code",
      "source": [],
      "metadata": {
        "id": "914rjIm8vrdE"
      },
      "execution_count": null,
      "outputs": []
    }
  ]
}